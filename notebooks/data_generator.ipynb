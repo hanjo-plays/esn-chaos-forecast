{
 "cells": [
  {
   "cell_type": "code",
   "execution_count": 1,
   "id": "1ed7383d",
   "metadata": {},
   "outputs": [
    {
     "name": "stdout",
     "output_type": "stream",
     "text": [
      "Saved 11980 windows → lorenz_windows.csv\n"
     ]
    }
   ],
   "source": [
    "# data_generator.py\n",
    "\n",
    "import numpy as np\n",
    "import pandas as pd\n",
    "import tensorflow as tf\n",
    "from numpy.lib.stride_tricks import sliding_window_view\n",
    "from dysts.flows import Lorenz\n",
    "\n",
    "def simulate_lorenz(\n",
    "    total_steps: int = 12000,\n",
    "    burn_in: int = 200,\n",
    "    dt: float = 0.01,\n",
    "    sigma: float = 10.0,\n",
    "    rho: float = 28.0,\n",
    "    beta: float = 8/3\n",
    ") -> np.ndarray:\n",
    "    lorenz = Lorenz(dt=dt, sigma=sigma, rho=rho, beta=beta)\n",
    "    _ = lorenz.make_trajectory(burn_in)\n",
    "    return lorenz.make_trajectory(total_steps)\n",
    "\n",
    "def build_windows(\n",
    "    series: np.ndarray,\n",
    "    window: int = 10,\n",
    "    horizon: int = 1\n",
    ") -> tuple[np.ndarray, np.ndarray]:\n",
    "    T, D = series.shape\n",
    "    N = T - window - horizon + 1\n",
    "    sw = sliding_window_view(series, window_shape=(window, D))\n",
    "    X = sw[:N, 0, :window, :]\n",
    "    start = window + horizon - 1\n",
    "    y = series[start : start + N]\n",
    "    return X, y\n",
    "\n",
    "def save_windows_to_csv(\n",
    "    X: np.ndarray,\n",
    "    y: np.ndarray,\n",
    "    filename: str = \"lorenz_windows.csv\"\n",
    ") -> None:\n",
    "    N, window, D = X.shape\n",
    "    X_flat = X.reshape(N, window * D)\n",
    "    cols = [f\"{feat}_t{t}\" for t in range(window) for feat in (\"x\", \"y\", \"z\")]\n",
    "    df = pd.DataFrame(X_flat, columns=cols)\n",
    "    df[[\"x_next\", \"y_next\", \"z_next\"]] = pd.DataFrame(y, columns=(\"x\", \"y\", \"z\"))\n",
    "    df.to_csv(filename, index=False)\n",
    "    print(f\"Saved {N} windows → {filename}\")\n",
    "\n",
    "def generate_and_save_csv(\n",
    "    window: int = 20,\n",
    "    horizon: int = 1,\n",
    "    total_steps: int = 12000,\n",
    "    burn_in: int = 200,\n",
    "    dt: float = 0.01,\n",
    "    csv_filename: str = \"lorenz_windows.csv\"\n",
    ") -> None:\n",
    "    \"\"\"\n",
    "    Full pipeline: simulate Lorenz, build windows, and save to CSV.\n",
    "    No batching—one row per window+target.\n",
    "    \"\"\"\n",
    "    series = simulate_lorenz(total_steps, burn_in, dt=dt)\n",
    "    X, y   = build_windows(series, window, horizon)\n",
    "    save_windows_to_csv(X, y, filename=csv_filename)\n",
    "\n",
    "if __name__ == \"__main__\":\n",
    "    # When you run `python data_generator.py`, this will execute:\n",
    "    generate_and_save_csv(\n",
    "        window=20,\n",
    "        horizon=1,\n",
    "        total_steps=12000,\n",
    "        burn_in=200,\n",
    "        dt=0.01,\n",
    "        csv_filename=\"lorenz_windows.csv\"\n",
    "    )\n"
   ]
  }
 ],
 "metadata": {
  "kernelspec": {
   "display_name": "thesis",
   "language": "python",
   "name": "python3"
  },
  "language_info": {
   "codemirror_mode": {
    "name": "ipython",
    "version": 3
   },
   "file_extension": ".py",
   "mimetype": "text/x-python",
   "name": "python",
   "nbconvert_exporter": "python",
   "pygments_lexer": "ipython3",
   "version": "3.10.18"
  }
 },
 "nbformat": 4,
 "nbformat_minor": 5
}
