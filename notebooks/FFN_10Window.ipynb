{
 "cells": [
  {
   "cell_type": "code",
   "execution_count": 2,
   "id": "c79bf875",
   "metadata": {},
   "outputs": [
    {
     "name": "stdout",
     "output_type": "stream",
     "text": [
      "        x_t0       y_t0       z_t0       x_t1       y_t1       z_t1  \\\n",
      "0  -9.786929 -15.038520  20.533978 -10.577554 -15.833834  22.044518   \n",
      "1 -10.577554 -15.833834  22.044518 -11.355439 -16.429680  23.787565   \n",
      "2 -11.355439 -16.429680  23.787565 -12.089270 -16.752077  25.722356   \n",
      "3 -12.089270 -16.752077  25.722356 -12.742066 -16.732771  27.779601   \n",
      "4 -12.742066 -16.732771  27.779601 -13.273643 -16.321915  29.861869   \n",
      "\n",
      "        x_t2       y_t2       z_t2       x_t3  ...      z_t17     x_t18  \\\n",
      "0 -11.355439 -16.429680  23.787565 -12.089270  ...  31.718965 -5.990126   \n",
      "1 -12.089270 -16.752077  25.722356 -12.742066  ...  30.552253 -5.236159   \n",
      "2 -12.742066 -16.732771  27.779601 -13.273643  ...  29.401553 -4.570703   \n",
      "3 -13.273643 -16.321915  29.861869 -13.644591  ...  28.281191 -3.994244   \n",
      "4 -13.644591 -15.501392  31.850541 -13.821372  ...  27.198773 -3.503766   \n",
      "\n",
      "      y_t18      z_t18     x_t19     y_t19      z_t19    x_next    y_next  \\\n",
      "0 -0.680717  30.552253 -5.236159 -0.504723  29.401553 -4.570703 -0.435238   \n",
      "1 -0.504723  29.401553 -4.570703 -0.435238  28.281191 -3.994244 -0.444836   \n",
      "2 -0.435238  28.281191 -3.994244 -0.444836  27.198773 -3.503766 -0.511517   \n",
      "3 -0.444836  27.198773 -3.503766 -0.511517  26.157586 -3.093984 -0.618473   \n",
      "4 -0.511517  26.157586 -3.093984 -0.618473  25.158373 -2.758342 -0.753497   \n",
      "\n",
      "      z_next  \n",
      "0  28.281191  \n",
      "1  27.198773  \n",
      "2  26.157586  \n",
      "3  25.158373  \n",
      "4  24.200525  \n",
      "\n",
      "[5 rows x 63 columns]\n"
     ]
    }
   ],
   "source": [
    "import pandas as pd\n",
    "import numpy as np\n",
    "import tensorflow as tf\n",
    "from sklearn.model_selection import train_test_split\n",
    "\n",
    "df = pd.read_csv(r\"C:\\Users\\johan\\Thesis\\ThesisCode\\lorenz_windows.csv\")\n",
    "\n",
    "print(df.head(5))\n"
   ]
  },
  {
   "cell_type": "code",
   "execution_count": null,
   "id": "fe6b196b",
   "metadata": {},
   "outputs": [],
   "source": [
    "feature_col = [c for c in df.columns if c.endswith(\"_t0\")]\n",
    "target_col = [c for c in df.columns if c.endswith(\"_next\")]\n",
    "\n",
    "X = df[feature_col].values\n",
    "y = df[target_col].values"
   ]
  },
  {
   "cell_type": "code",
   "execution_count": null,
   "id": "8397c588",
   "metadata": {},
   "outputs": [],
   "source": [
    "X_train, X_val, y_train, y_val = train_test_split(X,y, test_size = 0.2, random_state = 123)"
   ]
  },
  {
   "cell_type": "code",
   "execution_count": null,
   "id": "39adff8a",
   "metadata": {},
   "outputs": [],
   "source": [
    "batch_size = 32\n",
    "def make_dataset(X_arr, y_arr, shuffle=True):\n",
    "    ds = tf.data.Dataset.from_tensor_slices((X_arr, y_arr))\n",
    "    if shuffle:\n",
    "        ds = ds.shuffle(buffer_size=len(X_arr))\n",
    "    return ds.batch(batch_size).prefetch(tf.data.AUTOTUNE)\n",
    "\n",
    "ds_train = make_dataset(X_train, y_train)\n",
    "ds_val   = make_dataset(X_val,   y_val,   shuffle=False)"
   ]
  },
  {
   "cell_type": "code",
   "execution_count": null,
   "id": "6580c184",
   "metadata": {},
   "outputs": [],
   "source": [
    "# 5. Define a minimal FFNN\n",
    "model = tf.keras.Sequential([\n",
    "    tf.keras.layers.Input(shape=(X_train.shape[1],)),   # e.g. (3,) for last-state\n",
    "    tf.keras.layers.Dense(16, activation=\"relu\"),\n",
    "    tf.keras.layers.Dense(3)                            # predict next x,y,z\n",
    "])\n",
    "\n",
    "model.compile(\n",
    "    optimizer=tf.keras.optimizers.Adam(1e-3),\n",
    "    loss=\"mse\",\n",
    "    metrics=[\"mae\"]\n",
    ")\n"
   ]
  },
  {
   "cell_type": "code",
   "execution_count": null,
   "id": "55fc6f5e",
   "metadata": {},
   "outputs": [],
   "source": [
    "\n",
    "# 6. Quick “smoke test” fit\n",
    "history = model.fit(\n",
    "    ds_train,\n",
    "    validation_data=ds_val,\n",
    "    epochs=5\n",
    ")\n"
   ]
  },
  {
   "cell_type": "code",
   "execution_count": 1,
   "id": "def803a8",
   "metadata": {},
   "outputs": [
    {
     "name": "stdout",
     "output_type": "stream",
     "text": [
      "GPUs detected: [PhysicalDevice(name='/physical_device:GPU:0', device_type='GPU')]\n",
      "CPUs detected: [PhysicalDevice(name='/physical_device:CPU:0', device_type='CPU')]\n"
     ]
    }
   ],
   "source": [
    "import tensorflow as tf\n",
    "\n",
    "# List all physical GPUs\n",
    "gpus = tf.config.list_physical_devices('GPU')\n",
    "print(\"GPUs detected:\", gpus)\n",
    "\n",
    "# List all CPUs (just for completeness)\n",
    "cpus = tf.config.list_physical_devices('CPU')\n",
    "print(\"CPUs detected:\", cpus)\n"
   ]
  }
 ],
 "metadata": {
  "kernelspec": {
   "display_name": "thesis",
   "language": "python",
   "name": "python3"
  },
  "language_info": {
   "codemirror_mode": {
    "name": "ipython",
    "version": 3
   },
   "file_extension": ".py",
   "mimetype": "text/x-python",
   "name": "python",
   "nbconvert_exporter": "python",
   "pygments_lexer": "ipython3",
   "version": "3.10.18"
  }
 },
 "nbformat": 4,
 "nbformat_minor": 5
}
